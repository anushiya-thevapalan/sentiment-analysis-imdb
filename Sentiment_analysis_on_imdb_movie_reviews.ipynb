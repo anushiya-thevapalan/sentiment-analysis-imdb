{
  "nbformat": 4,
  "nbformat_minor": 0,
  "metadata": {
    "colab": {
      "name": "Sentiment_analysis_on_imdb_movie_reviews.ipynb",
      "provenance": [],
      "toc_visible": true,
      "authorship_tag": "ABX9TyN04y8l2XouUB6AGZODacpK",
      "include_colab_link": true
    },
    "kernelspec": {
      "name": "python3",
      "display_name": "Python 3"
    }
  },
  "cells": [
    {
      "cell_type": "markdown",
      "metadata": {
        "id": "view-in-github",
        "colab_type": "text"
      },
      "source": [
        "<a href=\"https://colab.research.google.com/github/anushiya-thevapalan/sentiment-analysis-imdb/blob/master/Sentiment_analysis_on_imdb_movie_reviews.ipynb\" target=\"_parent\"><img src=\"https://colab.research.google.com/assets/colab-badge.svg\" alt=\"Open In Colab\"/></a>"
      ]
    },
    {
      "cell_type": "markdown",
      "metadata": {
        "id": "NS7PvC5n0RV9",
        "colab_type": "text"
      },
      "source": [
        "# Sentiment Analysis on IMDB movie reviews\n",
        "\n",
        "To perform the sentiment analysis the following files need to be downloaded.\n",
        "\n",
        "\n",
        "\n",
        "1.   IMBD movie review dataset\n",
        "2.   GloVe word embedding\n",
        "\n",
        "\n",
        "## IMDB movie review dataset\n",
        "This is a dataset for binary sentiment classification containing substantially more data than previous benchmark datasets. We provide a set of 25,000 highly polar movie reviews for training, and 25,000 for testing. There is additional unlabeled data for use as well. Raw text and already processed bag of words formats are provided. See the README file contained in the release for more details.\n",
        "\n",
        "http://ai.stanford.edu/~amaas/data/sentiment/aclImdb_v1.tar.gz\n",
        "\n",
        "## GloVe word embedding\n",
        "GloVe is an unsupervised learning algorithm for obtaining vector representations for words. Training is performed on aggregated global word-word co-occurrence statistics from a corpus, and the resulting representations showcase interesting linear substructures of the word vector space.\n",
        "\n",
        "http://nlp.stanford.edu/data/glove.6B.zip\n"
      ]
    },
    {
      "cell_type": "markdown",
      "metadata": {
        "id": "tYDAtC_012Mc",
        "colab_type": "text"
      },
      "source": [
        "## Downloading the IMDB movie review data and word embedding"
      ]
    },
    {
      "cell_type": "code",
      "metadata": {
        "id": "9iQVJE8o10yv",
        "colab_type": "code",
        "colab": {
          "base_uri": "https://localhost:8080/",
          "height": 357
        },
        "outputId": "8e6b2208-f734-4939-df78-15bfb13188b2"
      },
      "source": [
        "# Download the glove word embedding\n",
        "!wget http://nlp.stanford.edu/data/glove.6B.zip"
      ],
      "execution_count": 1,
      "outputs": [
        {
          "output_type": "stream",
          "text": [
            "--2020-08-26 03:38:42--  http://nlp.stanford.edu/data/glove.6B.zip\n",
            "Resolving nlp.stanford.edu (nlp.stanford.edu)... 171.64.67.140\n",
            "Connecting to nlp.stanford.edu (nlp.stanford.edu)|171.64.67.140|:80... connected.\n",
            "HTTP request sent, awaiting response... 302 Found\n",
            "Location: https://nlp.stanford.edu/data/glove.6B.zip [following]\n",
            "--2020-08-26 03:38:42--  https://nlp.stanford.edu/data/glove.6B.zip\n",
            "Connecting to nlp.stanford.edu (nlp.stanford.edu)|171.64.67.140|:443... connected.\n",
            "HTTP request sent, awaiting response... 301 Moved Permanently\n",
            "Location: http://downloads.cs.stanford.edu/nlp/data/glove.6B.zip [following]\n",
            "--2020-08-26 03:38:42--  http://downloads.cs.stanford.edu/nlp/data/glove.6B.zip\n",
            "Resolving downloads.cs.stanford.edu (downloads.cs.stanford.edu)... 171.64.64.22\n",
            "Connecting to downloads.cs.stanford.edu (downloads.cs.stanford.edu)|171.64.64.22|:80... connected.\n",
            "HTTP request sent, awaiting response... 200 OK\n",
            "Length: 862182613 (822M) [application/zip]\n",
            "Saving to: ‘glove.6B.zip’\n",
            "\n",
            "glove.6B.zip        100%[===================>] 822.24M  2.00MB/s    in 6m 29s  \n",
            "\n",
            "2020-08-26 03:45:11 (2.12 MB/s) - ‘glove.6B.zip’ saved [862182613/862182613]\n",
            "\n"
          ],
          "name": "stdout"
        }
      ]
    },
    {
      "cell_type": "code",
      "metadata": {
        "id": "m4uWcEA61q-6",
        "colab_type": "code",
        "colab": {
          "base_uri": "https://localhost:8080/",
          "height": 102
        },
        "outputId": "bbe76268-21a1-4fbb-9d7c-eda2f2419f4f"
      },
      "source": [
        "# unzip the glove word embeddings\n",
        "!unzip glove*.zip"
      ],
      "execution_count": 2,
      "outputs": [
        {
          "output_type": "stream",
          "text": [
            "Archive:  glove.6B.zip\n",
            "  inflating: glove.6B.50d.txt        \n",
            "  inflating: glove.6B.100d.txt       \n",
            "  inflating: glove.6B.200d.txt       \n",
            "  inflating: glove.6B.300d.txt       \n"
          ],
          "name": "stdout"
        }
      ]
    },
    {
      "cell_type": "code",
      "metadata": {
        "id": "DOvoUSMW4Akt",
        "colab_type": "code",
        "colab": {
          "base_uri": "https://localhost:8080/",
          "height": 204
        },
        "outputId": "119ccfe3-f011-44d5-d462-ac0b7a087f2c"
      },
      "source": [
        "# Download the movie review dataset\n",
        "!wget http://ai.stanford.edu/~amaas/data/sentiment/aclImdb_v1.tar.gz"
      ],
      "execution_count": 3,
      "outputs": [
        {
          "output_type": "stream",
          "text": [
            "--2020-08-26 03:47:20--  http://ai.stanford.edu/~amaas/data/sentiment/aclImdb_v1.tar.gz\n",
            "Resolving ai.stanford.edu (ai.stanford.edu)... 171.64.68.10\n",
            "Connecting to ai.stanford.edu (ai.stanford.edu)|171.64.68.10|:80... connected.\n",
            "HTTP request sent, awaiting response... 200 OK\n",
            "Length: 84125825 (80M) [application/x-gzip]\n",
            "Saving to: ‘aclImdb_v1.tar.gz’\n",
            "\n",
            "aclImdb_v1.tar.gz   100%[===================>]  80.23M  21.3MB/s    in 5.5s    \n",
            "\n",
            "2020-08-26 03:47:26 (14.5 MB/s) - ‘aclImdb_v1.tar.gz’ saved [84125825/84125825]\n",
            "\n"
          ],
          "name": "stdout"
        }
      ]
    },
    {
      "cell_type": "code",
      "metadata": {
        "id": "sxFz_lwo4JHk",
        "colab_type": "code",
        "colab": {}
      },
      "source": [
        "# Unzip the movie review data\n",
        "!tar xf aclImdb_v1.tar.gz"
      ],
      "execution_count": 4,
      "outputs": []
    },
    {
      "cell_type": "markdown",
      "metadata": {
        "id": "UeW19ZX87x19",
        "colab_type": "text"
      },
      "source": [
        "## Import required libraries"
      ]
    },
    {
      "cell_type": "code",
      "metadata": {
        "id": "J98Oq4227xOE",
        "colab_type": "code",
        "colab": {}
      },
      "source": [
        "import os\n",
        "import re\n",
        "import string\n",
        "import numpy as np\n",
        "from keras import Model\n",
        "from keras.utils import to_categorical, plot_model\n",
        "from keras.layers import Dense, Input, Dropout, LSTM, Activation, concatenate, Bidirectional\n",
        "from keras.layers.embeddings import Embedding\n",
        "import matplotlib.pyplot as plt"
      ],
      "execution_count": 10,
      "outputs": []
    },
    {
      "cell_type": "markdown",
      "metadata": {
        "id": "gLS9_gOq5Pe3",
        "colab_type": "text"
      },
      "source": [
        "## Loading and preprocessing data"
      ]
    },
    {
      "cell_type": "code",
      "metadata": {
        "id": "20GGogXI6Uyb",
        "colab_type": "code",
        "colab": {}
      },
      "source": [
        "def preprocess(txt):\n",
        "    '''Preprocesses the text by removing HTML, XML, \n",
        "      punctuations and numbers, and returns the clean text\n",
        "    '''\n",
        "\n",
        "    def removeHTML(txt):\n",
        "        #remove the Html in the text\n",
        "        pattern = r'(<(?P<tag>[a-zA-Z0-9]+)>.*?</(?P=tag)>)'\n",
        "        return re.sub(pattern, ' ', txt, flags=re.MULTILINE)\n",
        "\n",
        "    def removeXml(txt):\n",
        "        # remove the XML in the text\n",
        "        pattern = r'/[a-zA-Z-_/]*\\.xml'\n",
        "        return re.sub(pattern, ' ', txt, flags=re.MULTILINE)\n",
        "\n",
        "    def removeContinousFullstops(txt):\n",
        "        # remove the Continous fullstop Eg: \"......\" with one fullstop.\n",
        "        return re.sub('\\.\\.+', ' . ', txt,flags=re.MULTILINE)\n",
        "\n",
        "    def removeNumbers(txt):\n",
        "        # Remove the digits .\n",
        "        pattern = r'\\d+'\n",
        "        return re.sub(pattern, ' . ', txt, flags=re.MULTILINE)\n",
        "\n",
        "    def removePunctuationwithoutdot(txt):\n",
        "        remove = string.punctuation\n",
        "        remove = remove.replace(\".\", \"\")  # don't remove hyphens\n",
        "        pattern = r\"[{}]\".format(remove)  # create the pattern\n",
        "        return  re.sub(pattern, \"\", txt)\n",
        "\n",
        "    txt=removeHTML(txt)\n",
        "    txt =removeXml(txt)\n",
        "    txt =removeContinousFullstops(txt)\n",
        "    txt =removeNumbers(txt)\n",
        "    txt =removePunctuationwithoutdot(txt)\n",
        "    return txt"
      ],
      "execution_count": 7,
      "outputs": []
    },
    {
      "cell_type": "code",
      "metadata": {
        "id": "QcCbjh2n5WgN",
        "colab_type": "code",
        "colab": {}
      },
      "source": [
        "def loadData():\n",
        "    '''\n",
        "    Loads the data from the respective files and preprocesses the data using the preprocess() function\n",
        "    '''\n",
        "    # load File names\n",
        "    trainPosFiles = os.listdir(\"./aclImdb/train/pos\")\n",
        "    trainNegFiles = os.listdir(\"./aclImdb/train/neg\")\n",
        "    testPosFiles = os.listdir(\"./aclImdb/test/pos\")\n",
        "    testNegFiles = os.listdir(\"./aclImdb/test/neg\")\n",
        "\n",
        "    #load positive, negative files from the directory\n",
        "\n",
        "    trainPos = []\n",
        "    trainNeg = []\n",
        "    testPos = []\n",
        "    testNeg = []\n",
        "\n",
        "    for i in range(len(trainPosFiles)):\n",
        "        with open(\"./aclImdb/train/pos/\" + trainPosFiles[i], \"r\") as myfile:\n",
        "            # Lower the text, preprocess the text\n",
        "            line = preprocess((myfile.readlines()[0]).lower())\n",
        "            trainPos.append(line)\n",
        "\n",
        "    for i in range(len(trainNegFiles)):\n",
        "        with open(\"./aclImdb/train/neg/\" + trainNegFiles[i], \"r\") as myfile:\n",
        "            # Lower the text, preprocess the text\n",
        "            line = preprocess((myfile.readlines()[0]).lower())\n",
        "            trainNeg.append(line)\n",
        "\n",
        "    for i in range(len(trainPosFiles)):\n",
        "        with open(\"./aclImdb/test/pos/\" + testPosFiles[i], \"r\") as myfile:\n",
        "            # Lower the text, preprocess the text\n",
        "            line = preprocess((myfile.readlines()[0]).lower())\n",
        "            testPos.append(line)\n",
        "\n",
        "    for i in range(len(trainNegFiles)):\n",
        "        with open(\"./aclImdb/test/neg/\" + testNegFiles[i], \"r\") as myfile:\n",
        "            # Lower the text, preprocess the text\n",
        "            line = preprocess((myfile.readlines()[0]).lower())\n",
        "            testNeg.append(line)\n",
        "\n",
        "    #merge Positive and Negative Datasets\n",
        "    trainX = trainPos + trainNeg\n",
        "    testX = testPos + testNeg\n",
        "\n",
        "    #preparing the labels for the dataset and  onehot encode\n",
        "    trainY = to_categorical([1 if i < len(trainPos) else 0 for i in range(len(trainX))],num_classes=2)\n",
        "    testY = to_categorical([1 if i < len(testPos) else 0 for i in range(len(testX))],num_classes=2)\n",
        "\n",
        "    return np.array(trainX), np.array(trainY), np.array(testX), np.array(testY)"
      ],
      "execution_count": 8,
      "outputs": []
    },
    {
      "cell_type": "code",
      "metadata": {
        "id": "tHCZ0P3N7L_N",
        "colab_type": "code",
        "colab": {}
      },
      "source": [
        "trainX, trainY, testX, testY = loadData()"
      ],
      "execution_count": 11,
      "outputs": []
    },
    {
      "cell_type": "code",
      "metadata": {
        "id": "pt-Pt_vp7uUd",
        "colab_type": "code",
        "colab": {
          "base_uri": "https://localhost:8080/",
          "height": 51
        },
        "outputId": "69bcedb6-b0ec-48dc-b192-1528a8506681"
      },
      "source": [
        "print(\"Number of training samples : \", len(trainY))\n",
        "print(\"Number of testing samples : \", len(trainY))"
      ],
      "execution_count": 12,
      "outputs": [
        {
          "output_type": "stream",
          "text": [
            "Number of training samples :  25000\n",
            "Number of testing samples :  25000\n"
          ],
          "name": "stdout"
        }
      ]
    },
    {
      "cell_type": "code",
      "metadata": {
        "id": "xI8FqxRk79rE",
        "colab_type": "code",
        "colab": {}
      },
      "source": [
        ""
      ],
      "execution_count": null,
      "outputs": []
    }
  ]
}
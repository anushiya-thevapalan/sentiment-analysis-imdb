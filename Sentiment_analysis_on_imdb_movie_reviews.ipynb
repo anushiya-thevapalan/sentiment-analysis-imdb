{
  "nbformat": 4,
  "nbformat_minor": 0,
  "metadata": {
    "colab": {
      "name": "Sentiment_analysis_on_imdb_movie_reviews.ipynb",
      "provenance": [],
      "collapsed_sections": [
        "tYDAtC_012Mc",
        "UeW19ZX87x19"
      ],
      "toc_visible": true,
      "authorship_tag": "ABX9TyM6GumFtTMSaySIBpVpsgrO",
      "include_colab_link": true
    },
    "kernelspec": {
      "name": "python3",
      "display_name": "Python 3"
    }
  },
  "cells": [
    {
      "cell_type": "markdown",
      "metadata": {
        "id": "view-in-github",
        "colab_type": "text"
      },
      "source": [
        "<a href=\"https://colab.research.google.com/github/anushiya-thevapalan/sentiment-analysis-imdb/blob/master/Sentiment_analysis_on_imdb_movie_reviews.ipynb\" target=\"_parent\"><img src=\"https://colab.research.google.com/assets/colab-badge.svg\" alt=\"Open In Colab\"/></a>"
      ]
    },
    {
      "cell_type": "markdown",
      "metadata": {
        "id": "NS7PvC5n0RV9",
        "colab_type": "text"
      },
      "source": [
        "# Sentiment Analysis on IMDB movie reviews\n",
        "\n",
        "To perform the sentiment analysis the following files need to be downloaded.\n",
        "\n",
        "\n",
        "\n",
        "1.   IMBD movie review dataset\n",
        "2.   GloVe word embedding\n",
        "\n",
        "\n",
        "## IMDB movie review dataset\n",
        "This is a dataset for binary sentiment classification containing substantially more data than previous benchmark datasets. We provide a set of 25,000 highly polar movie reviews for training, and 25,000 for testing. There is additional unlabeled data for use as well. Raw text and already processed bag of words formats are provided. See the README file contained in the release for more details.\n",
        "\n",
        "http://ai.stanford.edu/~amaas/data/sentiment/aclImdb_v1.tar.gz\n",
        "\n",
        "## GloVe word embedding\n",
        "GloVe is an unsupervised learning algorithm for obtaining vector representations for words. Training is performed on aggregated global word-word co-occurrence statistics from a corpus, and the resulting representations showcase interesting linear substructures of the word vector space.\n",
        "\n",
        "http://nlp.stanford.edu/data/glove.6B.zip\n"
      ]
    },
    {
      "cell_type": "markdown",
      "metadata": {
        "id": "tYDAtC_012Mc",
        "colab_type": "text"
      },
      "source": [
        "## Downloading the IMDB movie review data and word embedding"
      ]
    },
    {
      "cell_type": "code",
      "metadata": {
        "id": "9iQVJE8o10yv",
        "colab_type": "code",
        "colab": {
          "base_uri": "https://localhost:8080/",
          "height": 357
        },
        "outputId": "4437f0e6-9a77-48a1-e366-69ea710cf8a4"
      },
      "source": [
        "# Download the glove word embedding\n",
        "!wget http://nlp.stanford.edu/data/glove.6B.zip"
      ],
      "execution_count": 1,
      "outputs": [
        {
          "output_type": "stream",
          "text": [
            "--2020-08-30 02:09:18--  http://nlp.stanford.edu/data/glove.6B.zip\n",
            "Resolving nlp.stanford.edu (nlp.stanford.edu)... 171.64.67.140\n",
            "Connecting to nlp.stanford.edu (nlp.stanford.edu)|171.64.67.140|:80... connected.\n",
            "HTTP request sent, awaiting response... 302 Found\n",
            "Location: https://nlp.stanford.edu/data/glove.6B.zip [following]\n",
            "--2020-08-30 02:09:18--  https://nlp.stanford.edu/data/glove.6B.zip\n",
            "Connecting to nlp.stanford.edu (nlp.stanford.edu)|171.64.67.140|:443... connected.\n",
            "HTTP request sent, awaiting response... 301 Moved Permanently\n",
            "Location: http://downloads.cs.stanford.edu/nlp/data/glove.6B.zip [following]\n",
            "--2020-08-30 02:09:18--  http://downloads.cs.stanford.edu/nlp/data/glove.6B.zip\n",
            "Resolving downloads.cs.stanford.edu (downloads.cs.stanford.edu)... 171.64.64.22\n",
            "Connecting to downloads.cs.stanford.edu (downloads.cs.stanford.edu)|171.64.64.22|:80... connected.\n",
            "HTTP request sent, awaiting response... 200 OK\n",
            "Length: 862182613 (822M) [application/zip]\n",
            "Saving to: ‘glove.6B.zip’\n",
            "\n",
            "glove.6B.zip        100%[===================>] 822.24M  2.07MB/s    in 6m 28s  \n",
            "\n",
            "2020-08-30 02:15:46 (2.12 MB/s) - ‘glove.6B.zip’ saved [862182613/862182613]\n",
            "\n"
          ],
          "name": "stdout"
        }
      ]
    },
    {
      "cell_type": "code",
      "metadata": {
        "id": "m4uWcEA61q-6",
        "colab_type": "code",
        "colab": {
          "base_uri": "https://localhost:8080/",
          "height": 102
        },
        "outputId": "75e6d584-247e-4aba-e365-6395f9410002"
      },
      "source": [
        "# unzip the glove word embeddings\n",
        "!unzip glove*.zip"
      ],
      "execution_count": 2,
      "outputs": [
        {
          "output_type": "stream",
          "text": [
            "Archive:  glove.6B.zip\n",
            "  inflating: glove.6B.50d.txt        \n",
            "  inflating: glove.6B.100d.txt       \n",
            "  inflating: glove.6B.200d.txt       \n",
            "  inflating: glove.6B.300d.txt       \n"
          ],
          "name": "stdout"
        }
      ]
    },
    {
      "cell_type": "code",
      "metadata": {
        "id": "DOvoUSMW4Akt",
        "colab_type": "code",
        "colab": {
          "base_uri": "https://localhost:8080/",
          "height": 204
        },
        "outputId": "72b2cf3e-fb7a-4af9-d550-664e82552a73"
      },
      "source": [
        "# Download the movie review dataset\n",
        "!wget http://ai.stanford.edu/~amaas/data/sentiment/aclImdb_v1.tar.gz"
      ],
      "execution_count": 3,
      "outputs": [
        {
          "output_type": "stream",
          "text": [
            "--2020-08-30 02:16:12--  http://ai.stanford.edu/~amaas/data/sentiment/aclImdb_v1.tar.gz\n",
            "Resolving ai.stanford.edu (ai.stanford.edu)... 171.64.68.10\n",
            "Connecting to ai.stanford.edu (ai.stanford.edu)|171.64.68.10|:80... connected.\n",
            "HTTP request sent, awaiting response... 200 OK\n",
            "Length: 84125825 (80M) [application/x-gzip]\n",
            "Saving to: ‘aclImdb_v1.tar.gz’\n",
            "\n",
            "aclImdb_v1.tar.gz   100%[===================>]  80.23M  21.7MB/s    in 4.7s    \n",
            "\n",
            "2020-08-30 02:16:17 (17.1 MB/s) - ‘aclImdb_v1.tar.gz’ saved [84125825/84125825]\n",
            "\n"
          ],
          "name": "stdout"
        }
      ]
    },
    {
      "cell_type": "code",
      "metadata": {
        "id": "sxFz_lwo4JHk",
        "colab_type": "code",
        "colab": {}
      },
      "source": [
        "# Unzip the movie review data\n",
        "!tar xf aclImdb_v1.tar.gz"
      ],
      "execution_count": 4,
      "outputs": []
    },
    {
      "cell_type": "markdown",
      "metadata": {
        "id": "UeW19ZX87x19",
        "colab_type": "text"
      },
      "source": [
        "## Import required libraries"
      ]
    },
    {
      "cell_type": "code",
      "metadata": {
        "id": "J98Oq4227xOE",
        "colab_type": "code",
        "colab": {}
      },
      "source": [
        "import os\n",
        "import re\n",
        "import string\n",
        "import numpy as np\n",
        "from keras import Model\n",
        "from keras.utils import to_categorical, plot_model\n",
        "from keras.layers import Dense, Input, Dropout, LSTM, Activation, concatenate, Bidirectional\n",
        "from keras.layers.embeddings import Embedding\n",
        "import matplotlib.pyplot as plt"
      ],
      "execution_count": 5,
      "outputs": []
    },
    {
      "cell_type": "markdown",
      "metadata": {
        "id": "gLS9_gOq5Pe3",
        "colab_type": "text"
      },
      "source": [
        "## Loading and preprocessing data"
      ]
    },
    {
      "cell_type": "code",
      "metadata": {
        "id": "20GGogXI6Uyb",
        "colab_type": "code",
        "colab": {}
      },
      "source": [
        "def preprocess(txt):\n",
        "    '''Preprocesses the text by removing HTML, XML, \n",
        "      punctuations and numbers, and returns the clean text\n",
        "    '''\n",
        "\n",
        "    def removeHTML(txt):\n",
        "        #remove the Html in the text\n",
        "        pattern = r'(<(?P<tag>[a-zA-Z0-9]+)>.*?</(?P=tag)>)'\n",
        "        return re.sub(pattern, ' ', txt, flags=re.MULTILINE)\n",
        "\n",
        "    def removeXml(txt):\n",
        "        # remove the XML in the text\n",
        "        pattern = r'/[a-zA-Z-_/]*\\.xml'\n",
        "        return re.sub(pattern, ' ', txt, flags=re.MULTILINE)\n",
        "\n",
        "    def removeContinousFullstops(txt):\n",
        "        # remove the Continous fullstop Eg: \"......\" with one fullstop.\n",
        "        return re.sub('\\.\\.+', ' . ', txt,flags=re.MULTILINE)\n",
        "\n",
        "    def removeNumbers(txt):\n",
        "        # Remove the digits .\n",
        "        pattern = r'\\d+'\n",
        "        return re.sub(pattern, ' . ', txt, flags=re.MULTILINE)\n",
        "\n",
        "    def removePunctuationwithoutdot(txt):\n",
        "        remove = string.punctuation\n",
        "        remove = remove.replace(\".\", \"\")  # don't remove hyphens\n",
        "        pattern = r\"[{}]\".format(remove)  # create the pattern\n",
        "        return  re.sub(pattern, \"\", txt)\n",
        "\n",
        "    txt=removeHTML(txt)\n",
        "    txt =removeXml(txt)\n",
        "    txt =removeContinousFullstops(txt)\n",
        "    txt =removeNumbers(txt)\n",
        "    txt =removePunctuationwithoutdot(txt)\n",
        "    return txt"
      ],
      "execution_count": 6,
      "outputs": []
    },
    {
      "cell_type": "code",
      "metadata": {
        "id": "QcCbjh2n5WgN",
        "colab_type": "code",
        "colab": {}
      },
      "source": [
        "def loadData():\n",
        "    '''\n",
        "    Loads the data from the respective files and preprocesses the data using the preprocess() function\n",
        "    '''\n",
        "    # load File names\n",
        "    trainPosFiles = os.listdir(\"./aclImdb/train/pos\")\n",
        "    trainNegFiles = os.listdir(\"./aclImdb/train/neg\")\n",
        "    testPosFiles = os.listdir(\"./aclImdb/test/pos\")\n",
        "    testNegFiles = os.listdir(\"./aclImdb/test/neg\")\n",
        "\n",
        "    #load positive, negative files from the directory\n",
        "\n",
        "    trainPos = []\n",
        "    trainNeg = []\n",
        "    testPos = []\n",
        "    testNeg = []\n",
        "\n",
        "    for i in range(len(trainPosFiles)):\n",
        "        with open(\"./aclImdb/train/pos/\" + trainPosFiles[i], \"r\") as myfile:\n",
        "            # Lower the text, preprocess the text\n",
        "            line = preprocess((myfile.readlines()[0]).lower())\n",
        "            trainPos.append(line)\n",
        "\n",
        "    for i in range(len(trainNegFiles)):\n",
        "        with open(\"./aclImdb/train/neg/\" + trainNegFiles[i], \"r\") as myfile:\n",
        "            # Lower the text, preprocess the text\n",
        "            line = preprocess((myfile.readlines()[0]).lower())\n",
        "            trainNeg.append(line)\n",
        "\n",
        "    for i in range(len(trainPosFiles)):\n",
        "        with open(\"./aclImdb/test/pos/\" + testPosFiles[i], \"r\") as myfile:\n",
        "            # Lower the text, preprocess the text\n",
        "            line = preprocess((myfile.readlines()[0]).lower())\n",
        "            testPos.append(line)\n",
        "\n",
        "    for i in range(len(trainNegFiles)):\n",
        "        with open(\"./aclImdb/test/neg/\" + testNegFiles[i], \"r\") as myfile:\n",
        "            # Lower the text, preprocess the text\n",
        "            line = preprocess((myfile.readlines()[0]).lower())\n",
        "            testNeg.append(line)\n",
        "\n",
        "    #merge Positive and Negative Datasets\n",
        "    trainX = trainPos + trainNeg\n",
        "    testX = testPos + testNeg\n",
        "\n",
        "    #preparing the labels for the dataset and  onehot encode\n",
        "    trainY = to_categorical([1 if i < len(trainPos) else 0 for i in range(len(trainX))],num_classes=2)\n",
        "    testY = to_categorical([1 if i < len(testPos) else 0 for i in range(len(testX))],num_classes=2)\n",
        "\n",
        "    return np.array(trainX), np.array(trainY), np.array(testX), np.array(testY)"
      ],
      "execution_count": 8,
      "outputs": []
    },
    {
      "cell_type": "code",
      "metadata": {
        "id": "tHCZ0P3N7L_N",
        "colab_type": "code",
        "colab": {}
      },
      "source": [
        "trainX, trainY, testX, testY = loadData()"
      ],
      "execution_count": 9,
      "outputs": []
    },
    {
      "cell_type": "code",
      "metadata": {
        "id": "pt-Pt_vp7uUd",
        "colab_type": "code",
        "colab": {
          "base_uri": "https://localhost:8080/",
          "height": 51
        },
        "outputId": "be037134-854b-4343-862c-56712187fc29"
      },
      "source": [
        "print(\"Number of training samples : \", len(trainY))\n",
        "print(\"Number of testing samples : \", len(trainY))"
      ],
      "execution_count": 10,
      "outputs": [
        {
          "output_type": "stream",
          "text": [
            "Number of training samples :  25000\n",
            "Number of testing samples :  25000\n"
          ],
          "name": "stdout"
        }
      ]
    },
    {
      "cell_type": "code",
      "metadata": {
        "id": "xI8FqxRk79rE",
        "colab_type": "code",
        "colab": {}
      },
      "source": [
        ""
      ],
      "execution_count": null,
      "outputs": []
    },
    {
      "cell_type": "markdown",
      "metadata": {
        "id": "NXWP7Nq98YTz",
        "colab_type": "text"
      },
      "source": [
        "## Load GloVe word embeddings"
      ]
    },
    {
      "cell_type": "code",
      "metadata": {
        "id": "gBxUs8UW-a1e",
        "colab_type": "code",
        "colab": {
          "base_uri": "https://localhost:8080/",
          "height": 34
        },
        "outputId": "9104c6cc-24bd-46fc-d7b3-f2f72c021a0a"
      },
      "source": [
        "def read_glove_vecs(glove_file):\n",
        "  '''\n",
        "  reads the gloVe word embeddings\n",
        "  '''\n",
        "  with open(glove_file, 'r') as f:\n",
        "      words = set()\n",
        "      word_to_vec_map = {}\n",
        "      for line in f:\n",
        "          line = line.strip().split()\n",
        "          curr_word = line[0]\n",
        "          words.add(curr_word)\n",
        "          word_to_vec_map[curr_word] = np.array(line[1:], dtype=np.float64)\n",
        "\n",
        "      i = 1\n",
        "      words_to_index = {}\n",
        "      index_to_words = {}\n",
        "      for w in sorted(words):\n",
        "          words_to_index[w] = i\n",
        "          index_to_words[i] = w\n",
        "          i = i + 1\n",
        "  return words_to_index, index_to_words, word_to_vec_map\n",
        "\n",
        "\n",
        "print(\"Loading Glove Vectors...\")\n",
        "word_to_index, index_to_word, word_to_vec_map = read_glove_vecs('glove.6B.200d.txt')"
      ],
      "execution_count": 11,
      "outputs": [
        {
          "output_type": "stream",
          "text": [
            "Loading Glove Vectors...\n"
          ],
          "name": "stdout"
        }
      ]
    },
    {
      "cell_type": "markdown",
      "metadata": {
        "id": "jydTDXLb-0Be",
        "colab_type": "text"
      },
      "source": [
        "## Convert sentences to indices"
      ]
    },
    {
      "cell_type": "code",
      "metadata": {
        "id": "YNMg57u3-kDU",
        "colab_type": "code",
        "colab": {}
      },
      "source": [
        "def sentences_to_indices(X, word_to_index, max_len):\n",
        "    \"\"\"\n",
        "    Converts an array of sentences (strings) into an array of indices corresponding to words in the sentences.\n",
        "    The output shape should be such that it can be given to `Embedding()`.\n",
        "\n",
        "    Arguments:\n",
        "    X -- array of sentences (strings), of shape (m, 1)\n",
        "    word_to_index -- a dictionary containing the each word mapped to its index\n",
        "    max_len -- maximum number of words in a sentence. You can assume every sentence in X is no longer than this.\n",
        "\n",
        "    Returns:\n",
        "    X_indices -- array of indices corresponding to words in the sentences from X, of shape (m, max_len)\n",
        "    \"\"\"\n",
        "\n",
        "    m = X.shape[0]  # number of training examples\n",
        "\n",
        "    # Initialize X_indices as a numpy matrix of zeros and the correct shape (≈ 1 line)\n",
        "    X_indices = np.zeros((m, max_len))\n",
        "\n",
        "    for i in range(m):  # loop over training examples\n",
        "\n",
        "        # Convert the ith training sentence in lower case and split is into words. You should get a list of words.\n",
        "        sentence_words = [w.lower() for w in X[i].split()]\n",
        "\n",
        "        # Initialize j to 0\n",
        "        j = 0\n",
        "\n",
        "        # Loop over the words of sentence_words\n",
        "        for w in sentence_words:\n",
        "            # Set the (i,j)th entry of X_indices to the index of the correct word.\n",
        "\n",
        "            try:\n",
        "                X_indices[i, j] = word_to_index[w]\n",
        "            except Exception as e:\n",
        "                X_indices[i, j] = 0\n",
        "\n",
        "            # Increment j to j + 1\n",
        "            j += 1\n",
        "            if j == 199:\n",
        "                break\n",
        "\n",
        "    return X_indices"
      ],
      "execution_count": 12,
      "outputs": []
    },
    {
      "cell_type": "markdown",
      "metadata": {
        "id": "6cG15gZJ_pJX",
        "colab_type": "text"
      },
      "source": [
        "## Creating an embedding layer and loading pre-trained GloVe vectors"
      ]
    },
    {
      "cell_type": "code",
      "metadata": {
        "id": "C2J1gVEn-7j8",
        "colab_type": "code",
        "colab": {}
      },
      "source": [
        "def pretrained_embedding_layer(word_to_vec_map, word_to_index):\n",
        "    \"\"\"\n",
        "    Creates a Keras Embedding() layer and loads in pre-trained GloVe 50-dimensional vectors.\n",
        "\n",
        "    Arguments:\n",
        "    word_to_vec_map -- dictionary mapping words to their GloVe vector representation.\n",
        "    word_to_index -- dictionary mapping from words to their indices in the vocabulary (400,001 words)\n",
        "\n",
        "    Returns:\n",
        "    embedding_layer -- pretrained layer Keras instance\n",
        "    \"\"\"\n",
        "\n",
        "    vocab_len = len(word_to_index) + 1  # adding 1 to fit Keras embedding (requirement)\n",
        "    emb_dim = word_to_vec_map[\"cucumber\"].shape[0]  # define dimensionality of GloVe word vectors (= 50)\n",
        "\n",
        "    # Initialize the embedding matrix as a numpy array of zeros of shape (vocab_len, dimensions of word vectors = emb_dim)\n",
        "    emb_matrix = np.zeros((vocab_len, emb_dim))\n",
        "\n",
        "    # Set each row \"index\" of the embedding matrix to be the word vector representation of the \"index\"th word of the vocabulary\n",
        "    for word, index in word_to_index.items():\n",
        "        emb_matrix[index, :] = word_to_vec_map[word]\n",
        "\n",
        "    # Define Keras embedding layer with the correct output/input sizes, make it trainable.\n",
        "    embedding_layer = Embedding(vocab_len, emb_dim, trainable=False)\n",
        "\n",
        "    # Build the embedding layer, it is required before setting the weights of the embedding layer.\n",
        "    embedding_layer.build((None,))\n",
        "\n",
        "    # Set the weights of the embedding layer to the embedding matrix.\n",
        "    embedding_layer.set_weights([emb_matrix])\n",
        "\n",
        "    return embedding_layer\n"
      ],
      "execution_count": 13,
      "outputs": []
    },
    {
      "cell_type": "markdown",
      "metadata": {
        "id": "gC4DmBtTAgz7",
        "colab_type": "text"
      },
      "source": [
        "## Building the model"
      ]
    },
    {
      "cell_type": "code",
      "metadata": {
        "id": "ZVquSOXSAH5k",
        "colab_type": "code",
        "colab": {}
      },
      "source": [
        "def buildModel(input_shape, word_to_vec_map, word_to_index):\n",
        "    \"\"\"\n",
        "    Arguments:\n",
        "    input_shape -- shape of the input, usually (max_len,)\n",
        "    word_to_vec_map -- dictionary mapping every word in a vocabulary into its 50-dimensional vector representation\n",
        "    word_to_index -- dictionary mapping from words to their indices in the vocabulary (400,001 words)\n",
        "\n",
        "    Returns:\n",
        "    model -- a model instance in Keras\n",
        "    \"\"\"\n",
        "\n",
        "    # Define sentence_indices as the input of the graph, it should be of shape input_shape and dtype 'int32' (as it contains indices).\n",
        "    sentence_indices = Input(input_shape, dtype='int32')\n",
        "\n",
        "    # Create the embedding layer pretrained with GloVe Vectors (≈1 line)\n",
        "    embedding_layer = pretrained_embedding_layer(word_to_vec_map, word_to_index)\n",
        "\n",
        "    # Propagate sentence_indices through your embedding layer, you get back the embeddings\n",
        "    embeddings = embedding_layer(sentence_indices)\n",
        "\n",
        "    # Propagate the embeddings through an LSTM layer with 128-dimensional hidden state\n",
        "    # Be careful, the returned output should be a batch of sequences.\n",
        "    X = Bidirectional(LSTM(128, return_sequences=True))(embeddings)\n",
        "\n",
        "    # Add dropout with a probability of 0.5\n",
        "    X = Dropout(0.2)(X)\n",
        "    X = Bidirectional(LSTM(128, return_sequences=False))(X)\n",
        "    # Add dropout with a probability of 0.5\n",
        "    X = Dropout(0.2)(X)\n",
        "    # Propagate X through a Dense layer with softmax activation to get back a batch of 5-dimensional vectors.\n",
        "    X = Dense(2)(X)\n",
        "    # Add a softmax activation\n",
        "    X = Activation('softmax')(X)\n",
        "\n",
        "    # Create Model instance which converts sentence_indices into X.\n",
        "    model = Model(inputs=sentence_indices, outputs=X)\n",
        "\n",
        "    return model"
      ],
      "execution_count": 14,
      "outputs": []
    },
    {
      "cell_type": "code",
      "metadata": {
        "id": "B4FFGTYgAn9x",
        "colab_type": "code",
        "colab": {
          "base_uri": "https://localhost:8080/",
          "height": 442
        },
        "outputId": "b199995a-b4ef-48ef-cb9c-8895d9cc9411"
      },
      "source": [
        "print(\"Building The Model...\")\n",
        "\n",
        "# Setting the maximum length to 200\n",
        "maxLen = 200\n",
        "\n",
        "model = buildModel((maxLen,), word_to_vec_map, word_to_index)\n",
        "model.summary()\n",
        "# plot_model(model, to_file='model_plot.png', show_shapes=True, show_layer_names=True)"
      ],
      "execution_count": 15,
      "outputs": [
        {
          "output_type": "stream",
          "text": [
            "Building The Model...\n",
            "Model: \"functional_1\"\n",
            "_________________________________________________________________\n",
            "Layer (type)                 Output Shape              Param #   \n",
            "=================================================================\n",
            "input_1 (InputLayer)         [(None, 200)]             0         \n",
            "_________________________________________________________________\n",
            "embedding (Embedding)        (None, 200, 200)          80000200  \n",
            "_________________________________________________________________\n",
            "bidirectional (Bidirectional (None, 200, 256)          336896    \n",
            "_________________________________________________________________\n",
            "dropout (Dropout)            (None, 200, 256)          0         \n",
            "_________________________________________________________________\n",
            "bidirectional_1 (Bidirection (None, 256)               394240    \n",
            "_________________________________________________________________\n",
            "dropout_1 (Dropout)          (None, 256)               0         \n",
            "_________________________________________________________________\n",
            "dense (Dense)                (None, 2)                 514       \n",
            "_________________________________________________________________\n",
            "activation (Activation)      (None, 2)                 0         \n",
            "=================================================================\n",
            "Total params: 80,731,850\n",
            "Trainable params: 731,650\n",
            "Non-trainable params: 80,000,200\n",
            "_________________________________________________________________\n"
          ],
          "name": "stdout"
        }
      ]
    },
    {
      "cell_type": "markdown",
      "metadata": {
        "id": "1OfosNC2K9TU",
        "colab_type": "text"
      },
      "source": [
        "## Training the model"
      ]
    },
    {
      "cell_type": "code",
      "metadata": {
        "id": "VtrSLipCA0pb",
        "colab_type": "code",
        "colab": {
          "base_uri": "https://localhost:8080/",
          "height": 1000
        },
        "outputId": "72bff9d1-e2ca-4709-a694-9eeaa9e54f21"
      },
      "source": [
        "model.compile(loss='binary_crossentropy', optimizer='adam', metrics=['accuracy'])\n",
        "X_train_indices = sentences_to_indices(trainX, word_to_index, maxLen)\n",
        "history=model.fit(X_train_indices, trainY,validation_split=0.1, epochs=40 ,batch_size=50 , shuffle=True)"
      ],
      "execution_count": 16,
      "outputs": [
        {
          "output_type": "stream",
          "text": [
            "Epoch 1/40\n",
            "450/450 [==============================] - 846s 2s/step - loss: 0.6237 - accuracy: 0.6536 - val_loss: 1.0887 - val_accuracy: 0.2340\n",
            "Epoch 2/40\n",
            "450/450 [==============================] - 887s 2s/step - loss: 0.4525 - accuracy: 0.7966 - val_loss: 0.4656 - val_accuracy: 0.8088\n",
            "Epoch 3/40\n",
            "450/450 [==============================] - 866s 2s/step - loss: 0.3863 - accuracy: 0.8358 - val_loss: 0.4826 - val_accuracy: 0.7980\n",
            "Epoch 4/40\n",
            "450/450 [==============================] - 876s 2s/step - loss: 0.3314 - accuracy: 0.8610 - val_loss: 0.3003 - val_accuracy: 0.8692\n",
            "Epoch 5/40\n",
            "450/450 [==============================] - 857s 2s/step - loss: 0.3005 - accuracy: 0.8768 - val_loss: 0.4688 - val_accuracy: 0.7944\n",
            "Epoch 6/40\n",
            "450/450 [==============================] - 840s 2s/step - loss: 0.2733 - accuracy: 0.8892 - val_loss: 0.4786 - val_accuracy: 0.8100\n",
            "Epoch 7/40\n",
            "450/450 [==============================] - 843s 2s/step - loss: 0.2406 - accuracy: 0.9044 - val_loss: 0.3107 - val_accuracy: 0.8680\n",
            "Epoch 8/40\n",
            "450/450 [==============================] - 857s 2s/step - loss: 0.2062 - accuracy: 0.9211 - val_loss: 0.5769 - val_accuracy: 0.7820\n",
            "Epoch 9/40\n",
            "450/450 [==============================] - 854s 2s/step - loss: 0.1720 - accuracy: 0.9367 - val_loss: 0.3674 - val_accuracy: 0.8596\n",
            "Epoch 10/40\n",
            "450/450 [==============================] - 856s 2s/step - loss: 0.1365 - accuracy: 0.9501 - val_loss: 0.4448 - val_accuracy: 0.8476\n",
            "Epoch 11/40\n",
            "450/450 [==============================] - 859s 2s/step - loss: 0.1049 - accuracy: 0.9634 - val_loss: 0.8200 - val_accuracy: 0.7688\n",
            "Epoch 12/40\n",
            "450/450 [==============================] - 903s 2s/step - loss: 0.0826 - accuracy: 0.9706 - val_loss: 0.4808 - val_accuracy: 0.8736\n",
            "Epoch 13/40\n",
            "450/450 [==============================] - 930s 2s/step - loss: 0.0653 - accuracy: 0.9769 - val_loss: 0.5658 - val_accuracy: 0.8496\n",
            "Epoch 14/40\n",
            "450/450 [==============================] - 922s 2s/step - loss: 0.0563 - accuracy: 0.9815 - val_loss: 0.6949 - val_accuracy: 0.8256\n",
            "Epoch 15/40\n",
            "450/450 [==============================] - 920s 2s/step - loss: 0.0447 - accuracy: 0.9857 - val_loss: 0.4929 - val_accuracy: 0.8812\n",
            "Epoch 16/40\n",
            "450/450 [==============================] - 957s 2s/step - loss: 0.0361 - accuracy: 0.9876 - val_loss: 0.6800 - val_accuracy: 0.8576\n",
            "Epoch 17/40\n",
            "450/450 [==============================] - 932s 2s/step - loss: 0.0330 - accuracy: 0.9892 - val_loss: 0.8177 - val_accuracy: 0.8280\n",
            "Epoch 18/40\n",
            "450/450 [==============================] - 889s 2s/step - loss: 0.0297 - accuracy: 0.9898 - val_loss: 0.8184 - val_accuracy: 0.8308\n",
            "Epoch 19/40\n",
            "450/450 [==============================] - 897s 2s/step - loss: 0.0209 - accuracy: 0.9930 - val_loss: 0.8263 - val_accuracy: 0.8152\n",
            "Epoch 20/40\n",
            "450/450 [==============================] - 902s 2s/step - loss: 0.0274 - accuracy: 0.9917 - val_loss: 0.7681 - val_accuracy: 0.8432\n",
            "Epoch 21/40\n",
            "450/450 [==============================] - 911s 2s/step - loss: 0.0239 - accuracy: 0.9920 - val_loss: 0.8706 - val_accuracy: 0.8308\n",
            "Epoch 22/40\n",
            "450/450 [==============================] - 882s 2s/step - loss: 0.0230 - accuracy: 0.9922 - val_loss: 0.7473 - val_accuracy: 0.8280\n",
            "Epoch 23/40\n",
            "450/450 [==============================] - 882s 2s/step - loss: 0.0336 - accuracy: 0.9888 - val_loss: 0.5596 - val_accuracy: 0.8764\n",
            "Epoch 24/40\n",
            "450/450 [==============================] - 893s 2s/step - loss: 0.0225 - accuracy: 0.9923 - val_loss: 0.9584 - val_accuracy: 0.8172\n",
            "Epoch 25/40\n",
            "450/450 [==============================] - 904s 2s/step - loss: 0.0159 - accuracy: 0.9948 - val_loss: 1.4680 - val_accuracy: 0.7720\n",
            "Epoch 26/40\n",
            "450/450 [==============================] - 897s 2s/step - loss: 0.0161 - accuracy: 0.9948 - val_loss: 1.3431 - val_accuracy: 0.7652\n",
            "Epoch 27/40\n",
            "450/450 [==============================] - 901s 2s/step - loss: 0.0123 - accuracy: 0.9961 - val_loss: 0.8781 - val_accuracy: 0.8464\n",
            "Epoch 28/40\n",
            "450/450 [==============================] - 907s 2s/step - loss: 0.0158 - accuracy: 0.9948 - val_loss: 0.5783 - val_accuracy: 0.8928\n",
            "Epoch 29/40\n",
            "450/450 [==============================] - 918s 2s/step - loss: 0.0190 - accuracy: 0.9937 - val_loss: 0.9143 - val_accuracy: 0.8476\n",
            "Epoch 30/40\n",
            "450/450 [==============================] - 913s 2s/step - loss: 0.0104 - accuracy: 0.9966 - val_loss: 0.9213 - val_accuracy: 0.8340\n",
            "Epoch 31/40\n",
            "450/450 [==============================] - 907s 2s/step - loss: 0.0092 - accuracy: 0.9972 - val_loss: 1.1288 - val_accuracy: 0.8268\n",
            "Epoch 32/40\n",
            "450/450 [==============================] - 908s 2s/step - loss: 0.0114 - accuracy: 0.9965 - val_loss: 0.8898 - val_accuracy: 0.8500\n",
            "Epoch 33/40\n",
            "450/450 [==============================] - 916s 2s/step - loss: 0.0119 - accuracy: 0.9959 - val_loss: 1.4509 - val_accuracy: 0.7784\n",
            "Epoch 34/40\n",
            "450/450 [==============================] - 901s 2s/step - loss: 0.0168 - accuracy: 0.9947 - val_loss: 0.9519 - val_accuracy: 0.8292\n",
            "Epoch 35/40\n",
            "450/450 [==============================] - 906s 2s/step - loss: 0.0100 - accuracy: 0.9968 - val_loss: 1.4015 - val_accuracy: 0.7936\n",
            "Epoch 36/40\n",
            "450/450 [==============================] - 913s 2s/step - loss: 0.0105 - accuracy: 0.9963 - val_loss: 0.8759 - val_accuracy: 0.8612\n",
            "Epoch 37/40\n",
            "450/450 [==============================] - 919s 2s/step - loss: 0.0136 - accuracy: 0.9953 - val_loss: 1.3441 - val_accuracy: 0.8152\n",
            "Epoch 38/40\n",
            "450/450 [==============================] - 926s 2s/step - loss: 0.0072 - accuracy: 0.9977 - val_loss: 1.3924 - val_accuracy: 0.8028\n",
            "Epoch 39/40\n",
            "450/450 [==============================] - 902s 2s/step - loss: 0.0135 - accuracy: 0.9961 - val_loss: 1.0717 - val_accuracy: 0.8392\n",
            "Epoch 40/40\n",
            "450/450 [==============================] - 897s 2s/step - loss: 0.0104 - accuracy: 0.9969 - val_loss: 1.0974 - val_accuracy: 0.8244\n"
          ],
          "name": "stdout"
        }
      ]
    },
    {
      "cell_type": "markdown",
      "metadata": {
        "id": "dGOwGoHtbFvo",
        "colab_type": "text"
      },
      "source": [
        "## Visualizing the accuracy and loss"
      ]
    },
    {
      "cell_type": "code",
      "metadata": {
        "id": "ELQYR7DXbIg6",
        "colab_type": "code",
        "colab": {
          "base_uri": "https://localhost:8080/",
          "height": 573
        },
        "outputId": "3d12784a-2beb-4974-cbb0-db3c8b1b57b8"
      },
      "source": [
        "def plot_history(history):\n",
        "    loss_list = [s for s in history.history.keys() if 'loss' in s and 'val' not in s]\n",
        "    val_loss_list = [s for s in history.history.keys() if 'loss' in s and 'val' in s]\n",
        "    acc_list = [s for s in history.history.keys() if 'acc' in s and 'val' not in s]\n",
        "    val_acc_list = [s for s in history.history.keys() if 'acc' in s and 'val' in s]\n",
        "\n",
        "    if len(loss_list) == 0:\n",
        "        print('Loss is missing in history')\n",
        "        return\n",
        "\n",
        "        ## As loss always exists\n",
        "    epochs = range(1, len(history.history[loss_list[0]]) + 1)\n",
        "\n",
        "    ## Loss\n",
        "    plt.figure(1)\n",
        "    for l in loss_list:\n",
        "        plt.plot(epochs, history.history[l], 'b',\n",
        "                 label='Training loss (' + str(str(format(history.history[l][-1], '.5f')) + ')'))\n",
        "    for l in val_loss_list:\n",
        "        plt.plot(epochs, history.history[l], 'g',\n",
        "                 label='Validation loss (' + str(str(format(history.history[l][-1], '.5f')) + ')'))\n",
        "\n",
        "    plt.title('Loss')\n",
        "    plt.xlabel('Epochs')\n",
        "    plt.ylabel('Loss')\n",
        "    plt.legend()\n",
        "\n",
        "    ## Accuracy\n",
        "    plt.figure(2)\n",
        "    for l in acc_list:\n",
        "        plt.plot(epochs, history.history[l], 'b',\n",
        "                 label='Training accuracy (' + str(format(history.history[l][-1], '.5f')) + ')')\n",
        "    for l in val_acc_list:\n",
        "        plt.plot(epochs, history.history[l], 'g',\n",
        "                 label='Validation accuracy (' + str(format(history.history[l][-1], '.5f')) + ')')\n",
        "\n",
        "    plt.title('Accuracy')\n",
        "    plt.xlabel('Epochs')\n",
        "    plt.ylabel('Accuracy')\n",
        "    plt.legend()\n",
        "    plt.savefig('accuracy.png', bbox_inches='tight')\n",
        "    \n",
        "plot_history(history)"
      ],
      "execution_count": 18,
      "outputs": [
        {
          "output_type": "display_data",
          "data": {
            "image/png": "[encoded data removed]",
            "text/plain": [
              "<Figure size 432x288 with 1 Axes>"
            ]
          },
          "metadata": {
            "tags": [],
            "needs_background": "light"
          }
        },
        {
          "output_type": "display_data",
          "data": {
            "image/png": "[encoded data removed]",
            "text/plain": [
              "<Figure size 432x288 with 1 Axes>"
            ]
          },
          "metadata": {
            "tags": [],
            "needs_background": "light"
          }
        }
      ]
    },
    {
      "cell_type": "code",
      "metadata": {
        "id": "3J_VM-cxbJuJ",
        "colab_type": "code",
        "colab": {}
      },
      "source": [
        ""
      ],
      "execution_count": null,
      "outputs": []
    }
  ]
}